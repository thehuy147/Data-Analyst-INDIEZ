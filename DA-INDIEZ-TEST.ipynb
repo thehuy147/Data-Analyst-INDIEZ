{
 "cells": [
  {
   "cell_type": "code",
   "execution_count": 2,
   "metadata": {},
   "outputs": [],
   "source": [
    "import pandas as pd\n",
    "import numpy as np\n",
    "import matplotlib.pyplot as plt\n",
    "import seaborn as sns\n",
    "from statsmodels.stats.proportion import proportions_ztest\n"
   ]
  },
  {
   "cell_type": "code",
   "execution_count": 3,
   "metadata": {},
   "outputs": [],
   "source": [
    "df = pd.read_csv(\"D:\\\\Mia town\\\\IT\\\\Data\\\\INDIEZ\\\\data_interview.csv\")"
   ]
  },
  {
   "cell_type": "code",
   "execution_count": 4,
   "metadata": {},
   "outputs": [
    {
     "name": "stdout",
     "output_type": "stream",
     "text": [
      "<class 'pandas.core.frame.DataFrame'>\n",
      "RangeIndex: 798332 entries, 0 to 798331\n",
      "Data columns (total 12 columns):\n",
      " #   Column         Non-Null Count   Dtype  \n",
      "---  ------         --------------   -----  \n",
      " 0   STT            798332 non-null  int64  \n",
      " 1   date_time      798332 non-null  object \n",
      " 2   event_name     798332 non-null  object \n",
      " 3   level          798332 non-null  int64  \n",
      " 4   user           798332 non-null  object \n",
      " 5   day_diff       798332 non-null  int64  \n",
      " 6   day0           798332 non-null  object \n",
      " 7   mode_game      798332 non-null  object \n",
      " 8   win            243697 non-null  float64\n",
      " 9   reason_to_die  117413 non-null  object \n",
      " 10  quantity       798332 non-null  int64  \n",
      " 11  version        798332 non-null  object \n",
      "dtypes: float64(1), int64(4), object(7)\n",
      "memory usage: 73.1+ MB\n"
     ]
    }
   ],
   "source": [
    "# Checking Data\n",
    "df.info()"
   ]
  },
  {
   "cell_type": "code",
   "execution_count": 5,
   "metadata": {},
   "outputs": [
    {
     "data": {
      "text/html": [
       "<div>\n",
       "<style scoped>\n",
       "    .dataframe tbody tr th:only-of-type {\n",
       "        vertical-align: middle;\n",
       "    }\n",
       "\n",
       "    .dataframe tbody tr th {\n",
       "        vertical-align: top;\n",
       "    }\n",
       "\n",
       "    .dataframe thead th {\n",
       "        text-align: right;\n",
       "    }\n",
       "</style>\n",
       "<table border=\"1\" class=\"dataframe\">\n",
       "  <thead>\n",
       "    <tr style=\"text-align: right;\">\n",
       "      <th></th>\n",
       "      <th>STT</th>\n",
       "      <th>date_time</th>\n",
       "      <th>event_name</th>\n",
       "      <th>level</th>\n",
       "      <th>user</th>\n",
       "      <th>day_diff</th>\n",
       "      <th>day0</th>\n",
       "      <th>mode_game</th>\n",
       "      <th>win</th>\n",
       "      <th>reason_to_die</th>\n",
       "      <th>quantity</th>\n",
       "      <th>version</th>\n",
       "    </tr>\n",
       "  </thead>\n",
       "  <tbody>\n",
       "    <tr>\n",
       "      <th>0</th>\n",
       "      <td>40</td>\n",
       "      <td>10/28/2023</td>\n",
       "      <td>game_start</td>\n",
       "      <td>1</td>\n",
       "      <td>1cffd052-4616-4d29-bfd5-950e23b763d4</td>\n",
       "      <td>0</td>\n",
       "      <td>10/28/2023</td>\n",
       "      <td>normal</td>\n",
       "      <td>NaN</td>\n",
       "      <td>NaN</td>\n",
       "      <td>0</td>\n",
       "      <td>1.6.0</td>\n",
       "    </tr>\n",
       "    <tr>\n",
       "      <th>1</th>\n",
       "      <td>41</td>\n",
       "      <td>10/28/2023</td>\n",
       "      <td>game_start</td>\n",
       "      <td>1</td>\n",
       "      <td>1cffd052-4616-4d29-bfd5-950e23b763d4</td>\n",
       "      <td>0</td>\n",
       "      <td>10/28/2023</td>\n",
       "      <td>normal</td>\n",
       "      <td>NaN</td>\n",
       "      <td>NaN</td>\n",
       "      <td>0</td>\n",
       "      <td>1.6.0</td>\n",
       "    </tr>\n",
       "    <tr>\n",
       "      <th>2</th>\n",
       "      <td>42</td>\n",
       "      <td>10/28/2023</td>\n",
       "      <td>game_start</td>\n",
       "      <td>2</td>\n",
       "      <td>1cffd052-4616-4d29-bfd5-950e23b763d4</td>\n",
       "      <td>0</td>\n",
       "      <td>10/28/2023</td>\n",
       "      <td>normal</td>\n",
       "      <td>NaN</td>\n",
       "      <td>NaN</td>\n",
       "      <td>0</td>\n",
       "      <td>1.6.0</td>\n",
       "    </tr>\n",
       "    <tr>\n",
       "      <th>3</th>\n",
       "      <td>43</td>\n",
       "      <td>10/28/2023</td>\n",
       "      <td>game_start</td>\n",
       "      <td>3</td>\n",
       "      <td>1cffd052-4616-4d29-bfd5-950e23b763d4</td>\n",
       "      <td>0</td>\n",
       "      <td>10/28/2023</td>\n",
       "      <td>normal</td>\n",
       "      <td>NaN</td>\n",
       "      <td>NaN</td>\n",
       "      <td>0</td>\n",
       "      <td>1.6.0</td>\n",
       "    </tr>\n",
       "    <tr>\n",
       "      <th>4</th>\n",
       "      <td>44</td>\n",
       "      <td>10/28/2023</td>\n",
       "      <td>game_start</td>\n",
       "      <td>4</td>\n",
       "      <td>1cffd052-4616-4d29-bfd5-950e23b763d4</td>\n",
       "      <td>0</td>\n",
       "      <td>10/28/2023</td>\n",
       "      <td>normal</td>\n",
       "      <td>NaN</td>\n",
       "      <td>NaN</td>\n",
       "      <td>0</td>\n",
       "      <td>1.6.0</td>\n",
       "    </tr>\n",
       "  </tbody>\n",
       "</table>\n",
       "</div>"
      ],
      "text/plain": [
       "   STT   date_time  event_name  level                                  user  \\\n",
       "0   40  10/28/2023  game_start      1  1cffd052-4616-4d29-bfd5-950e23b763d4   \n",
       "1   41  10/28/2023  game_start      1  1cffd052-4616-4d29-bfd5-950e23b763d4   \n",
       "2   42  10/28/2023  game_start      2  1cffd052-4616-4d29-bfd5-950e23b763d4   \n",
       "3   43  10/28/2023  game_start      3  1cffd052-4616-4d29-bfd5-950e23b763d4   \n",
       "4   44  10/28/2023  game_start      4  1cffd052-4616-4d29-bfd5-950e23b763d4   \n",
       "\n",
       "   day_diff        day0 mode_game  win reason_to_die  quantity version  \n",
       "0         0  10/28/2023    normal  NaN           NaN         0   1.6.0  \n",
       "1         0  10/28/2023    normal  NaN           NaN         0   1.6.0  \n",
       "2         0  10/28/2023    normal  NaN           NaN         0   1.6.0  \n",
       "3         0  10/28/2023    normal  NaN           NaN         0   1.6.0  \n",
       "4         0  10/28/2023    normal  NaN           NaN         0   1.6.0  "
      ]
     },
     "execution_count": 5,
     "metadata": {},
     "output_type": "execute_result"
    }
   ],
   "source": [
    "df.head()"
   ]
  },
  {
   "cell_type": "code",
   "execution_count": 6,
   "metadata": {},
   "outputs": [],
   "source": [
    "#Cleaning data (NaN, wrong dtype,...)\n",
    "df['date_time'] = df['date_time'].astype('datetime64[ns]')\n",
    "df['day0'] = df['day0'].astype('datetime64[ns]')\n",
    "df['win'] = df['win'].fillna(0)\n",
    "df['reason_to_die'] = df['reason_to_die'].fillna(0)"
   ]
  },
  {
   "cell_type": "code",
   "execution_count": 7,
   "metadata": {},
   "outputs": [
    {
     "name": "stdout",
     "output_type": "stream",
     "text": [
      "Empty DataFrame\n",
      "Columns: [STT, date_time, event_name, level, user, day_diff, day0, mode_game, win, reason_to_die, quantity, version]\n",
      "Index: []\n"
     ]
    }
   ],
   "source": [
    "# Display the duplicate rows\n",
    "duplicates = df.duplicated()\n",
    "duplicate_rows = df[duplicates]\n",
    "print(duplicate_rows)"
   ]
  },
  {
   "cell_type": "code",
   "execution_count": 8,
   "metadata": {},
   "outputs": [
    {
     "data": {
      "text/plain": [
       "STT              0\n",
       "date_time        0\n",
       "event_name       0\n",
       "level            0\n",
       "user             0\n",
       "day_diff         0\n",
       "day0             0\n",
       "mode_game        0\n",
       "win              0\n",
       "reason_to_die    0\n",
       "quantity         0\n",
       "version          0\n",
       "dtype: int64"
      ]
     },
     "execution_count": 8,
     "metadata": {},
     "output_type": "execute_result"
    }
   ],
   "source": [
    "# Check null data\n",
    "df.isnull().sum()"
   ]
  },
  {
   "cell_type": "code",
   "execution_count": 9,
   "metadata": {},
   "outputs": [],
   "source": [
    "# filter user per version\n",
    "dau_1_5_2 = df.loc[df['version'] == '1.5.2']\n",
    "dau_1_6_0 = df.loc[df['version'] == '1.6.0']\n",
    "# Count all user per version\n",
    "dau_1_6_0 = dau_1_6_0.groupby('date_time')['user'].nunique().reset_index(name='dau_1_6_0')\n",
    "dau_1_5_2 = dau_1_5_2.groupby('date_time')['user'].nunique().reset_index(name='dau_1_5_2')\n",
    "\n",
    "# Create table for comparison\n",
    "dau_comparison = pd.merge(dau_1_5_2, dau_1_6_0, on='date_time')\n",
    "dau_comparison['percent_change'] = ((dau_comparison['dau_1_6_0'] - dau_comparison['dau_1_5_2'])/dau_comparison['dau_1_5_2'] )* 100"
   ]
  },
  {
   "cell_type": "code",
   "execution_count": 10,
   "metadata": {},
   "outputs": [
    {
     "data": {
      "image/png": "[encoded data removed]",
      "text/plain": [
       "<Figure size 1000x500 with 1 Axes>"
      ]
     },
     "metadata": {},
     "output_type": "display_data"
    }
   ],
   "source": [
    "#plotting\n",
    "fig, ax = plt.subplots(figsize = (10,5))\n",
    "\n",
    "plt.plot(dau_comparison['date_time'], dau_comparison['dau_1_5_2'], label = 'dau_1_5_2')\n",
    "plt.plot(dau_comparison['date_time'], dau_comparison['dau_1_6_0'], label = 'dau_1_6_0')\n",
    "\n",
    "# Add labels and title\n",
    "plt.xlabel('Date')\n",
    "plt.xticks(rotation = 45)\n",
    "plt.ylabel('DAU')\n",
    "plt.title('DAU 1.5.2 and DAU 1.6.0 Over Time')\n",
    "plt.legend()\n",
    "plt.show()"
   ]
  },
  {
   "cell_type": "markdown",
   "metadata": {},
   "source": [
    "+ so nguoi choi hoan thanh tutorial \n"
   ]
  },
  {
   "cell_type": "code",
   "execution_count": 11,
   "metadata": {},
   "outputs": [],
   "source": [
    "# Total players complete the Tut\n",
    "check = df.loc[(df['event_name'] == 'tutorial') & (df['quantity'] == -2)]"
   ]
  },
  {
   "cell_type": "code",
   "execution_count": 12,
   "metadata": {},
   "outputs": [
    {
     "data": {
      "text/plain": [
       "version\n",
       "1.5.2    6497\n",
       "1.6.0    6712\n",
       "Name: quantity, dtype: int64"
      ]
     },
     "execution_count": 12,
     "metadata": {},
     "output_type": "execute_result"
    }
   ],
   "source": [
    "check.groupby('version')['quantity'].count()"
   ]
  },
  {
   "cell_type": "code",
   "execution_count": 13,
   "metadata": {},
   "outputs": [],
   "source": [
    "tutorial = df.loc[df['event_name'] == 'tutorial']"
   ]
  },
  {
   "cell_type": "code",
   "execution_count": 14,
   "metadata": {},
   "outputs": [
    {
     "data": {
      "text/html": [
       "<div>\n",
       "<style scoped>\n",
       "    .dataframe tbody tr th:only-of-type {\n",
       "        vertical-align: middle;\n",
       "    }\n",
       "\n",
       "    .dataframe tbody tr th {\n",
       "        vertical-align: top;\n",
       "    }\n",
       "\n",
       "    .dataframe thead th {\n",
       "        text-align: right;\n",
       "    }\n",
       "</style>\n",
       "<table border=\"1\" class=\"dataframe\">\n",
       "  <thead>\n",
       "    <tr style=\"text-align: right;\">\n",
       "      <th></th>\n",
       "      <th>STT</th>\n",
       "      <th>date_time</th>\n",
       "      <th>event_name</th>\n",
       "      <th>level</th>\n",
       "      <th>user</th>\n",
       "      <th>day_diff</th>\n",
       "      <th>day0</th>\n",
       "      <th>mode_game</th>\n",
       "      <th>win</th>\n",
       "      <th>reason_to_die</th>\n",
       "      <th>quantity</th>\n",
       "      <th>version</th>\n",
       "    </tr>\n",
       "  </thead>\n",
       "  <tbody>\n",
       "    <tr>\n",
       "      <th>16</th>\n",
       "      <td>147</td>\n",
       "      <td>2023-10-28</td>\n",
       "      <td>tutorial</td>\n",
       "      <td>1</td>\n",
       "      <td>1cffd052-4616-4d29-bfd5-950e23b763d4</td>\n",
       "      <td>0</td>\n",
       "      <td>2023-10-28</td>\n",
       "      <td>tutorial</td>\n",
       "      <td>0.0</td>\n",
       "      <td>0</td>\n",
       "      <td>-1</td>\n",
       "      <td>1.6.0</td>\n",
       "    </tr>\n",
       "    <tr>\n",
       "      <th>17</th>\n",
       "      <td>148</td>\n",
       "      <td>2023-10-28</td>\n",
       "      <td>tutorial</td>\n",
       "      <td>1</td>\n",
       "      <td>1cffd052-4616-4d29-bfd5-950e23b763d4</td>\n",
       "      <td>0</td>\n",
       "      <td>2023-10-28</td>\n",
       "      <td>tutorial</td>\n",
       "      <td>0.0</td>\n",
       "      <td>0</td>\n",
       "      <td>1</td>\n",
       "      <td>1.6.0</td>\n",
       "    </tr>\n",
       "    <tr>\n",
       "      <th>18</th>\n",
       "      <td>149</td>\n",
       "      <td>2023-10-28</td>\n",
       "      <td>tutorial</td>\n",
       "      <td>1</td>\n",
       "      <td>1cffd052-4616-4d29-bfd5-950e23b763d4</td>\n",
       "      <td>0</td>\n",
       "      <td>2023-10-28</td>\n",
       "      <td>tutorial</td>\n",
       "      <td>0.0</td>\n",
       "      <td>0</td>\n",
       "      <td>2</td>\n",
       "      <td>1.6.0</td>\n",
       "    </tr>\n",
       "    <tr>\n",
       "      <th>19</th>\n",
       "      <td>150</td>\n",
       "      <td>2023-10-28</td>\n",
       "      <td>tutorial</td>\n",
       "      <td>1</td>\n",
       "      <td>1cffd052-4616-4d29-bfd5-950e23b763d4</td>\n",
       "      <td>0</td>\n",
       "      <td>2023-10-28</td>\n",
       "      <td>tutorial</td>\n",
       "      <td>0.0</td>\n",
       "      <td>0</td>\n",
       "      <td>3</td>\n",
       "      <td>1.6.0</td>\n",
       "    </tr>\n",
       "    <tr>\n",
       "      <th>20</th>\n",
       "      <td>151</td>\n",
       "      <td>2023-10-28</td>\n",
       "      <td>tutorial</td>\n",
       "      <td>1</td>\n",
       "      <td>1cffd052-4616-4d29-bfd5-950e23b763d4</td>\n",
       "      <td>0</td>\n",
       "      <td>2023-10-28</td>\n",
       "      <td>tutorial</td>\n",
       "      <td>0.0</td>\n",
       "      <td>0</td>\n",
       "      <td>4</td>\n",
       "      <td>1.6.0</td>\n",
       "    </tr>\n",
       "  </tbody>\n",
       "</table>\n",
       "</div>"
      ],
      "text/plain": [
       "    STT  date_time event_name  level                                  user  \\\n",
       "16  147 2023-10-28   tutorial      1  1cffd052-4616-4d29-bfd5-950e23b763d4   \n",
       "17  148 2023-10-28   tutorial      1  1cffd052-4616-4d29-bfd5-950e23b763d4   \n",
       "18  149 2023-10-28   tutorial      1  1cffd052-4616-4d29-bfd5-950e23b763d4   \n",
       "19  150 2023-10-28   tutorial      1  1cffd052-4616-4d29-bfd5-950e23b763d4   \n",
       "20  151 2023-10-28   tutorial      1  1cffd052-4616-4d29-bfd5-950e23b763d4   \n",
       "\n",
       "    day_diff       day0 mode_game  win reason_to_die  quantity version  \n",
       "16         0 2023-10-28  tutorial  0.0             0        -1   1.6.0  \n",
       "17         0 2023-10-28  tutorial  0.0             0         1   1.6.0  \n",
       "18         0 2023-10-28  tutorial  0.0             0         2   1.6.0  \n",
       "19         0 2023-10-28  tutorial  0.0             0         3   1.6.0  \n",
       "20         0 2023-10-28  tutorial  0.0             0         4   1.6.0  "
      ]
     },
     "execution_count": 14,
     "metadata": {},
     "output_type": "execute_result"
    }
   ],
   "source": [
    "tutorial.head()"
   ]
  },
  {
   "cell_type": "code",
   "execution_count": 15,
   "metadata": {},
   "outputs": [],
   "source": [
    "# tinh tong so nguoi skip tutorial va bat dau choi tutorial\n",
    "# total_user = tutorial.loc[(tutorial['quantity'] == 0) | (tutorial['quantity'] == -1)]\n",
    "# total_user.groupby('version')['quantity'].count().reset_index()"
   ]
  },
  {
   "cell_type": "code",
   "execution_count": 16,
   "metadata": {},
   "outputs": [
    {
     "name": "stdout",
     "output_type": "stream",
     "text": [
      "VERSION 1.5.2\n"
     ]
    },
    {
     "data": {
      "text/html": [
       "<div>\n",
       "<style scoped>\n",
       "    .dataframe tbody tr th:only-of-type {\n",
       "        vertical-align: middle;\n",
       "    }\n",
       "\n",
       "    .dataframe tbody tr th {\n",
       "        vertical-align: top;\n",
       "    }\n",
       "\n",
       "    .dataframe thead th {\n",
       "        text-align: right;\n",
       "    }\n",
       "</style>\n",
       "<table border=\"1\" class=\"dataframe\">\n",
       "  <thead>\n",
       "    <tr style=\"text-align: right;\">\n",
       "      <th></th>\n",
       "      <th>quantity</th>\n",
       "      <th>qty</th>\n",
       "      <th>percent_complete</th>\n",
       "    </tr>\n",
       "  </thead>\n",
       "  <tbody>\n",
       "    <tr>\n",
       "      <th>1</th>\n",
       "      <td>-1</td>\n",
       "      <td>6988</td>\n",
       "      <td>100.000000</td>\n",
       "    </tr>\n",
       "    <tr>\n",
       "      <th>3</th>\n",
       "      <td>1</td>\n",
       "      <td>6658</td>\n",
       "      <td>95.277619</td>\n",
       "    </tr>\n",
       "    <tr>\n",
       "      <th>4</th>\n",
       "      <td>2</td>\n",
       "      <td>6573</td>\n",
       "      <td>94.061248</td>\n",
       "    </tr>\n",
       "    <tr>\n",
       "      <th>5</th>\n",
       "      <td>3</td>\n",
       "      <td>6535</td>\n",
       "      <td>93.517459</td>\n",
       "    </tr>\n",
       "    <tr>\n",
       "      <th>6</th>\n",
       "      <td>4</td>\n",
       "      <td>6508</td>\n",
       "      <td>93.131082</td>\n",
       "    </tr>\n",
       "  </tbody>\n",
       "</table>\n",
       "</div>"
      ],
      "text/plain": [
       "   quantity   qty  percent_complete\n",
       "1        -1  6988        100.000000\n",
       "3         1  6658         95.277619\n",
       "4         2  6573         94.061248\n",
       "5         3  6535         93.517459\n",
       "6         4  6508         93.131082"
      ]
     },
     "execution_count": 16,
     "metadata": {},
     "output_type": "execute_result"
    }
   ],
   "source": [
    "user_tut_1_5_2 = tutorial.loc[tutorial['version'] == '1.5.2'] \n",
    "user_tut_1_5_2 = user_tut_1_5_2.groupby('quantity')['quantity'].count().reset_index(name='qty')\n",
    "user_tut_1_5_2 = user_tut_1_5_2.iloc[1:,:]\n",
    "user_tut_1_5_2 = user_tut_1_5_2[user_tut_1_5_2['quantity'] !=0]\n",
    "total_user_1_5_2 = user_tut_1_5_2['qty'][1]\n",
    "user_tut_1_5_2['percent_complete'] = user_tut_1_5_2['qty']/total_user_1_5_2*100\n",
    "print('VERSION 1.5.2')\n",
    "user_tut_1_5_2"
   ]
  },
  {
   "cell_type": "code",
   "execution_count": 17,
   "metadata": {},
   "outputs": [
    {
     "name": "stdout",
     "output_type": "stream",
     "text": [
      "VERSION 1.6.0\n"
     ]
    },
    {
     "data": {
      "text/html": [
       "<div>\n",
       "<style scoped>\n",
       "    .dataframe tbody tr th:only-of-type {\n",
       "        vertical-align: middle;\n",
       "    }\n",
       "\n",
       "    .dataframe tbody tr th {\n",
       "        vertical-align: top;\n",
       "    }\n",
       "\n",
       "    .dataframe thead th {\n",
       "        text-align: right;\n",
       "    }\n",
       "</style>\n",
       "<table border=\"1\" class=\"dataframe\">\n",
       "  <thead>\n",
       "    <tr style=\"text-align: right;\">\n",
       "      <th></th>\n",
       "      <th>quantity</th>\n",
       "      <th>qty</th>\n",
       "      <th>percent_complete</th>\n",
       "    </tr>\n",
       "  </thead>\n",
       "  <tbody>\n",
       "    <tr>\n",
       "      <th>1</th>\n",
       "      <td>-1</td>\n",
       "      <td>7224</td>\n",
       "      <td>100.000000</td>\n",
       "    </tr>\n",
       "    <tr>\n",
       "      <th>3</th>\n",
       "      <td>1</td>\n",
       "      <td>6885</td>\n",
       "      <td>95.307309</td>\n",
       "    </tr>\n",
       "    <tr>\n",
       "      <th>4</th>\n",
       "      <td>2</td>\n",
       "      <td>6811</td>\n",
       "      <td>94.282946</td>\n",
       "    </tr>\n",
       "    <tr>\n",
       "      <th>5</th>\n",
       "      <td>3</td>\n",
       "      <td>6782</td>\n",
       "      <td>93.881506</td>\n",
       "    </tr>\n",
       "    <tr>\n",
       "      <th>6</th>\n",
       "      <td>4</td>\n",
       "      <td>6759</td>\n",
       "      <td>93.563123</td>\n",
       "    </tr>\n",
       "    <tr>\n",
       "      <th>7</th>\n",
       "      <td>5</td>\n",
       "      <td>6749</td>\n",
       "      <td>93.424695</td>\n",
       "    </tr>\n",
       "    <tr>\n",
       "      <th>8</th>\n",
       "      <td>6</td>\n",
       "      <td>6736</td>\n",
       "      <td>93.244740</td>\n",
       "    </tr>\n",
       "    <tr>\n",
       "      <th>9</th>\n",
       "      <td>7</td>\n",
       "      <td>6726</td>\n",
       "      <td>93.106312</td>\n",
       "    </tr>\n",
       "    <tr>\n",
       "      <th>10</th>\n",
       "      <td>8</td>\n",
       "      <td>6713</td>\n",
       "      <td>92.926357</td>\n",
       "    </tr>\n",
       "  </tbody>\n",
       "</table>\n",
       "</div>"
      ],
      "text/plain": [
       "    quantity   qty  percent_complete\n",
       "1         -1  7224        100.000000\n",
       "3          1  6885         95.307309\n",
       "4          2  6811         94.282946\n",
       "5          3  6782         93.881506\n",
       "6          4  6759         93.563123\n",
       "7          5  6749         93.424695\n",
       "8          6  6736         93.244740\n",
       "9          7  6726         93.106312\n",
       "10         8  6713         92.926357"
      ]
     },
     "execution_count": 17,
     "metadata": {},
     "output_type": "execute_result"
    }
   ],
   "source": [
    "user_tut_1_6_0 = tutorial.loc[tutorial['version'] == '1.6.0'] \n",
    "user_tut_1_6_0 = user_tut_1_6_0.groupby('quantity')['quantity'].count().reset_index(name='qty')\n",
    "user_tut_1_6_0 = user_tut_1_6_0.iloc[1:,:]\n",
    "user_tut_1_6_0 = user_tut_1_6_0[user_tut_1_6_0['quantity'] !=0]\n",
    "total_user_1_6_0 = user_tut_1_6_0['qty'][1]\n",
    "user_tut_1_6_0['percent_complete'] = user_tut_1_6_0['qty']/total_user_1_6_0*100\n",
    "print('VERSION 1.6.0')\n",
    "user_tut_1_6_0"
   ]
  },
  {
   "cell_type": "code",
   "execution_count": 18,
   "metadata": {},
   "outputs": [
    {
     "data": {
      "image/png": "[encoded data removed]",
      "text/plain": [
       "<Figure size 1000x500 with 1 Axes>"
      ]
     },
     "metadata": {},
     "output_type": "display_data"
    }
   ],
   "source": [
    "#plotting\n",
    "fig, ax = plt.subplots(figsize = (10,5))\n",
    "\n",
    "plt.plot(user_tut_1_5_2['quantity'], user_tut_1_5_2['percent_complete'], marker = 'o', label = 'ver_1_5_2')\n",
    "plt.plot(user_tut_1_6_0['quantity'], user_tut_1_6_0['percent_complete'], marker = 'o', label = 'ver_1_6_0')\n",
    "\n",
    "# Add labels and title\n",
    "plt.xlabel('Tutorial Step')\n",
    "plt.ylabel('percent_complete')\n",
    "# plt.title('DAU 1.5.2 and DAU 1.6.0 Over Time')\n",
    "plt.yticks([90, 100], ['90', '100'])\n",
    "plt.legend()\n",
    "plt.show()"
   ]
  },
  {
   "cell_type": "code",
   "execution_count": 19,
   "metadata": {},
   "outputs": [
    {
     "data": {
      "text/html": [
       "<div>\n",
       "<style scoped>\n",
       "    .dataframe tbody tr th:only-of-type {\n",
       "        vertical-align: middle;\n",
       "    }\n",
       "\n",
       "    .dataframe tbody tr th {\n",
       "        vertical-align: top;\n",
       "    }\n",
       "\n",
       "    .dataframe thead th {\n",
       "        text-align: right;\n",
       "    }\n",
       "</style>\n",
       "<table border=\"1\" class=\"dataframe\">\n",
       "  <thead>\n",
       "    <tr style=\"text-align: right;\">\n",
       "      <th></th>\n",
       "      <th>STT</th>\n",
       "      <th>date_time</th>\n",
       "      <th>event_name</th>\n",
       "      <th>level</th>\n",
       "      <th>user</th>\n",
       "      <th>day_diff</th>\n",
       "      <th>day0</th>\n",
       "      <th>mode_game</th>\n",
       "      <th>win</th>\n",
       "      <th>reason_to_die</th>\n",
       "      <th>quantity</th>\n",
       "      <th>version</th>\n",
       "    </tr>\n",
       "  </thead>\n",
       "  <tbody>\n",
       "    <tr>\n",
       "      <th>0</th>\n",
       "      <td>40</td>\n",
       "      <td>2023-10-28</td>\n",
       "      <td>game_start</td>\n",
       "      <td>1</td>\n",
       "      <td>1cffd052-4616-4d29-bfd5-950e23b763d4</td>\n",
       "      <td>0</td>\n",
       "      <td>2023-10-28</td>\n",
       "      <td>normal</td>\n",
       "      <td>0.0</td>\n",
       "      <td>0</td>\n",
       "      <td>0</td>\n",
       "      <td>1.6.0</td>\n",
       "    </tr>\n",
       "    <tr>\n",
       "      <th>1</th>\n",
       "      <td>41</td>\n",
       "      <td>2023-10-28</td>\n",
       "      <td>game_start</td>\n",
       "      <td>1</td>\n",
       "      <td>1cffd052-4616-4d29-bfd5-950e23b763d4</td>\n",
       "      <td>0</td>\n",
       "      <td>2023-10-28</td>\n",
       "      <td>normal</td>\n",
       "      <td>0.0</td>\n",
       "      <td>0</td>\n",
       "      <td>0</td>\n",
       "      <td>1.6.0</td>\n",
       "    </tr>\n",
       "    <tr>\n",
       "      <th>2</th>\n",
       "      <td>42</td>\n",
       "      <td>2023-10-28</td>\n",
       "      <td>game_start</td>\n",
       "      <td>2</td>\n",
       "      <td>1cffd052-4616-4d29-bfd5-950e23b763d4</td>\n",
       "      <td>0</td>\n",
       "      <td>2023-10-28</td>\n",
       "      <td>normal</td>\n",
       "      <td>0.0</td>\n",
       "      <td>0</td>\n",
       "      <td>0</td>\n",
       "      <td>1.6.0</td>\n",
       "    </tr>\n",
       "    <tr>\n",
       "      <th>3</th>\n",
       "      <td>43</td>\n",
       "      <td>2023-10-28</td>\n",
       "      <td>game_start</td>\n",
       "      <td>3</td>\n",
       "      <td>1cffd052-4616-4d29-bfd5-950e23b763d4</td>\n",
       "      <td>0</td>\n",
       "      <td>2023-10-28</td>\n",
       "      <td>normal</td>\n",
       "      <td>0.0</td>\n",
       "      <td>0</td>\n",
       "      <td>0</td>\n",
       "      <td>1.6.0</td>\n",
       "    </tr>\n",
       "    <tr>\n",
       "      <th>4</th>\n",
       "      <td>44</td>\n",
       "      <td>2023-10-28</td>\n",
       "      <td>game_start</td>\n",
       "      <td>4</td>\n",
       "      <td>1cffd052-4616-4d29-bfd5-950e23b763d4</td>\n",
       "      <td>0</td>\n",
       "      <td>2023-10-28</td>\n",
       "      <td>normal</td>\n",
       "      <td>0.0</td>\n",
       "      <td>0</td>\n",
       "      <td>0</td>\n",
       "      <td>1.6.0</td>\n",
       "    </tr>\n",
       "  </tbody>\n",
       "</table>\n",
       "</div>"
      ],
      "text/plain": [
       "   STT  date_time  event_name  level                                  user  \\\n",
       "0   40 2023-10-28  game_start      1  1cffd052-4616-4d29-bfd5-950e23b763d4   \n",
       "1   41 2023-10-28  game_start      1  1cffd052-4616-4d29-bfd5-950e23b763d4   \n",
       "2   42 2023-10-28  game_start      2  1cffd052-4616-4d29-bfd5-950e23b763d4   \n",
       "3   43 2023-10-28  game_start      3  1cffd052-4616-4d29-bfd5-950e23b763d4   \n",
       "4   44 2023-10-28  game_start      4  1cffd052-4616-4d29-bfd5-950e23b763d4   \n",
       "\n",
       "   day_diff       day0 mode_game  win reason_to_die  quantity version  \n",
       "0         0 2023-10-28    normal  0.0             0         0   1.6.0  \n",
       "1         0 2023-10-28    normal  0.0             0         0   1.6.0  \n",
       "2         0 2023-10-28    normal  0.0             0         0   1.6.0  \n",
       "3         0 2023-10-28    normal  0.0             0         0   1.6.0  \n",
       "4         0 2023-10-28    normal  0.0             0         0   1.6.0  "
      ]
     },
     "execution_count": 19,
     "metadata": {},
     "output_type": "execute_result"
    }
   ],
   "source": [
    "df.head()"
   ]
  },
  {
   "cell_type": "code",
   "execution_count": 20,
   "metadata": {},
   "outputs": [
    {
     "name": "stdout",
     "output_type": "stream",
     "text": [
      "VERSION 1.5.2\n",
      "day1\n",
      "Retention Rate: 0.2668265627342227\n",
      "Initial User: 6671\n",
      "Retained User: 1780\n",
      "-----------\n",
      "day7\n",
      "Retention Rate: 0.02743216909009144\n",
      "Initial Use:r 6671\n",
      "Retained User: 183\n",
      "=========================\n",
      "VERSION 1.6.0\n",
      "day1\n",
      "Retention Rate: 0.2858998412469332\n",
      "Initial User: 6929\n",
      "Retained User: 1981\n",
      "-----------\n",
      "day7\n",
      "Retention Rate: 0.0417087602828691\n",
      "Initial User: 6929\n",
      "Retained User: 289\n"
     ]
    }
   ],
   "source": [
    "# Tính retention rate:\n",
    "def cal_retention_rate(df_by_version, days):    # df_by_version: use for each version 1.5.2/1.6.0\n",
    "    init_user = df_by_version['user'].nunique()\n",
    "    retained_user = df_by_version.loc[df_by_version['day_diff'] == days]['user'].nunique()\n",
    "    retention_rate = retained_user/init_user\n",
    "    return retention_rate, init_user, retained_user\n",
    "\n",
    "# Date by version\n",
    "ver_1_5_2 = df.loc[df['version'] == '1.5.2']\n",
    "ver_1_6_0 = df.loc[df['version'] == '1.6.0']\n",
    "\n",
    "# Calculation\n",
    "rr_1_5_2_day1, iu_1_5_2_day1, ru_1_5_2_day1 = cal_retention_rate(ver_1_5_2,1)\n",
    "rr_1_5_2_day7, iu_1_5_2_day7, ru_1_5_2_day7 = cal_retention_rate(ver_1_5_2,7)\n",
    "rr_1_6_0_day1, iu_1_6_0_day1, ru_1_6_0_day1 = cal_retention_rate(ver_1_6_0,1)\n",
    "rr_1_6_0_day7, iu_1_6_0_day7, ru_1_6_0_day7 = cal_retention_rate(ver_1_6_0,7)\n",
    "\n",
    "# Printing\n",
    "print('VERSION 1.5.2')\n",
    "print('day1')\n",
    "print('Retention Rate:', rr_1_5_2_day1)\n",
    "print('Initial User:', iu_1_5_2_day1)\n",
    "print('Retained User:', ru_1_5_2_day1)\n",
    "print('-----------')\n",
    "print('day7')\n",
    "print('Retention Rate:',rr_1_5_2_day7)\n",
    "print('Initial Use:r', iu_1_5_2_day7)\n",
    "print('Retained User:', ru_1_5_2_day7)\n",
    "print('=========================')\n",
    "print('VERSION 1.6.0')\n",
    "print('day1')\n",
    "print('Retention Rate:', rr_1_6_0_day1)\n",
    "print('Initial User:', iu_1_6_0_day1)\n",
    "print('Retained User:', ru_1_6_0_day1)\n",
    "print('-----------')\n",
    "print('day7')\n",
    "print('Retention Rate:', rr_1_6_0_day7)\n",
    "print('Initial User:', iu_1_6_0_day7)\n",
    "print('Retained User:', ru_1_6_0_day7)\n",
    "\n"
   ]
  },
  {
   "cell_type": "code",
   "execution_count": 21,
   "metadata": {},
   "outputs": [
    {
     "name": "stdout",
     "output_type": "stream",
     "text": [
      "Z test RR day 1\n",
      "Zstat : -2.485984455187577\n",
      "pvalue : 0.012919360874932801\n",
      "Z test RR day 7\n",
      "Zstat : -4.54730878112399\n",
      "pvalue : 5.433624995471488e-06\n"
     ]
    }
   ],
   "source": [
    "# Create array for the Z test (RR day 1)\n",
    "counts_day1 = [ru_1_5_2_day1, ru_1_6_0_day1]\n",
    "nobs_day1 = [iu_1_5_2_day1, iu_1_6_0_day1]\n",
    "\n",
    "# Peform the Z test\n",
    "z_stat_day1, p_value_day1 = proportions_ztest(counts_day1, nobs_day1)\n",
    "\n",
    "# Output\n",
    "print('Z test RR day 1')\n",
    "print(f'Zstat : {z_stat_day1}')\n",
    "print(f'pvalue : {p_value_day1}')\n",
    "\n",
    "counts_day7 = [ru_1_5_2_day7, ru_1_6_0_day7]\n",
    "nobs_day7 = [iu_1_5_2_day7, iu_1_6_0_day7]\n",
    "\n",
    "# Peform the Z test\n",
    "z_stat_day7, p_value_day7 = proportions_ztest(counts_day7, nobs_day7)\n",
    "\n",
    "# Output\n",
    "print('Z test RR day 7')\n",
    "print(f'Zstat : {z_stat_day7}')\n",
    "print(f'pvalue : {p_value_day7}')\n"
   ]
  },
  {
   "cell_type": "markdown",
   "metadata": {},
   "source": [
    "Problem 3"
   ]
  },
  {
   "cell_type": "code",
   "execution_count": 22,
   "metadata": {},
   "outputs": [],
   "source": [
    "impression_a = 50000\n",
    "click_a = 2000\n",
    "install_a = 500\n",
    "cost_a = 2000\n",
    "\n",
    "impression_b = 50000\n",
    "click_b = 3000\n",
    "install_b = 600\n",
    "cost_b = 2000"
   ]
  },
  {
   "cell_type": "code",
   "execution_count": 26,
   "metadata": {},
   "outputs": [
    {
     "name": "stdout",
     "output_type": "stream",
     "text": [
      "Creative A\n",
      "CTR 4.0\n",
      "CR 25.0\n",
      "CPI 4.0\n",
      "=================\n",
      "Creative B\n",
      "CTR 6.0\n",
      "CR 20.0\n",
      "CPI 3.3333333333333335\n"
     ]
    }
   ],
   "source": [
    "# Calculating\n",
    "ctr_a = (click_a/impression_a)*100\n",
    "cr_a = (install_a/click_a)*100\n",
    "cpi_a = (cost_a/install_a)\n",
    "\n",
    "ctr_b = (click_b/impression_b)*100\n",
    "cr_b = (install_b/click_b)*100\n",
    "cpi_b = (cost_b/install_b)\n",
    "\n",
    "#Printing\n",
    "print('Creative A')\n",
    "print('CTR', ctr_a)\n",
    "print('CR', cr_a)\n",
    "print('CPI', cpi_a)\n",
    "print('=================')\n",
    "print('Creative B')\n",
    "print('CTR', ctr_b)\n",
    "print('CR', cr_b)\n",
    "print('CPI', cpi_b)"
   ]
  },
  {
   "cell_type": "code",
   "execution_count": 25,
   "metadata": {},
   "outputs": [
    {
     "name": "stdout",
     "output_type": "stream",
     "text": [
      "Zstat : 4.181210050035453\n",
      "pvalue : 2.8996184057874934e-05\n"
     ]
    }
   ],
   "source": [
    "# Create array for the Z test Between Conversion Rate and two creatives\n",
    "counts = [500,600]\n",
    "nobs = [2000,3000]\n",
    "\n",
    "# Peform the Z test\n",
    "z_stat, p_value = proportions_ztest(counts, nobs)\n",
    "\n",
    "# Output\n",
    "print(f'Zstat : {z_stat}')\n",
    "print(f'pvalue : {p_value}')\n"
   ]
  },
  {
   "cell_type": "code",
   "execution_count": null,
   "metadata": {},
   "outputs": [],
   "source": []
  },
  {
   "cell_type": "code",
   "execution_count": null,
   "metadata": {},
   "outputs": [],
   "source": []
  },
  {
   "cell_type": "code",
   "execution_count": null,
   "metadata": {},
   "outputs": [],
   "source": []
  },
  {
   "cell_type": "code",
   "execution_count": null,
   "metadata": {},
   "outputs": [],
   "source": []
  },
  {
   "cell_type": "code",
   "execution_count": null,
   "metadata": {},
   "outputs": [],
   "source": []
  },
  {
   "cell_type": "code",
   "execution_count": null,
   "metadata": {},
   "outputs": [],
   "source": []
  },
  {
   "cell_type": "code",
   "execution_count": null,
   "metadata": {},
   "outputs": [],
   "source": []
  },
  {
   "cell_type": "code",
   "execution_count": null,
   "metadata": {},
   "outputs": [],
   "source": []
  }
 ],
 "metadata": {
  "kernelspec": {
   "display_name": "base",
   "language": "python",
   "name": "python3"
  },
  "language_info": {
   "codemirror_mode": {
    "name": "ipython",
    "version": 3
   },
   "file_extension": ".py",
   "mimetype": "text/x-python",
   "name": "python",
   "nbconvert_exporter": "python",
   "pygments_lexer": "ipython3",
   "version": "3.11.7"
  }
 },
 "nbformat": 4,
 "nbformat_minor": 2
}
